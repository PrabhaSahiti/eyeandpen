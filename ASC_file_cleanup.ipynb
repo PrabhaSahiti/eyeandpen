{
  "nbformat": 4,
  "nbformat_minor": 0,
  "metadata": {
    "colab": {
      "name": "ASC_file_cleanup",
      "provenance": [],
      "collapsed_sections": []
    },
    "kernelspec": {
      "name": "python3",
      "display_name": "Python 3"
    },
    "language_info": {
      "name": "python"
    }
  },
  "cells": [
    {
      "cell_type": "markdown",
      "metadata": {
        "id": "xFiGkG3UqhDI"
      },
      "source": [
        "Run import and all functions, then follow comments \n",
        "\n",
        "You need to create a folder called proceed1 with the path /content/proceed1 and leave the .txt file (have to manually change to NLS_14.txt for now) in /content\n"
      ]
    },
    {
      "cell_type": "code",
      "metadata": {
        "id": "UYCF0JSSb_F4"
      },
      "source": [
        "import pandas as pd\n",
        "import numpy as np\n",
        "from string import digits\n",
        "import os, os.path\n",
        "import numpy as np"
      ],
      "execution_count": 171,
      "outputs": []
    },
    {
      "cell_type": "code",
      "metadata": {
        "id": "TUUPYGiycH_9"
      },
      "source": [
        "def countTrials(textFile):\n",
        "  range1 = [i for i in range(0,7)]\n",
        "  fileRead = pd.read_table(textFile, usecols = range1, sep='\\t', delim_whitespace=True, dtype = {\"TIMESTAMP\":object, \"RIGHT_EYE_X\":object, \"RIGHT_EYE_Y\":object, \"RIGHT_PUPIL_SIZE\":object, \"LEFT_EYE_X\":object, \"LEFT_EYE_Y\":object, \"LEFT_EYE_PUPIL\":object});\n",
        "  fileRead.columns = [\"TIMESTAMP\", \"RIGHT_EYE_X\", \"RIGHT_EYE_Y\", \"RIGHT_PUPIL_SIZE\", \"LEFT_EYE_X\", \"LEFT_EYE_Y\", \"LEFT_EYE_PUPIL\"];\n",
        "  #print(fileRead.iloc[150:170,0])\n",
        "  rowCount = fileRead.shape[0];\n",
        "  colCount = 7;\n",
        "  sample = \"SAMPLE\";\n",
        "  end = \"END\";\n",
        "  currRow = 0;\n",
        "  trialNum = 1;\n",
        "  fileDir = \"/content/proceed1/\";\n",
        "  patientNum = 14;\n",
        "  while currRow < rowCount:\n",
        "    startRow = 1;\n",
        "    endRow = 1;\n",
        "    if sample in str(fileRead.iloc[currRow, 0]):\n",
        "      #print(\"yes\"+str(currRow));\n",
        "      startRow = currRow;\n",
        "      currRowTemp = currRow;\n",
        "      while currRowTemp < rowCount:\n",
        "        if end in str(fileRead.iloc[currRowTemp, 0]):\n",
        "          #print(\"end found\"+str(currRowTemp))\n",
        "          endRow = currRowTemp;\n",
        "          currRow = currRowTemp;\n",
        "          break;\n",
        "        else:\n",
        "          currRowTemp = currRowTemp + 1;\n",
        "      np.savetxt(fileDir+\"NLS_\"+str(patientNum)+\"_\"+str(trialNum)+\".txt\", fileRead.iloc[startRow:endRow, 0:colCount], delimiter=\" \", fmt=\"%s\");\n",
        "      trialNum = trialNum + 1;\n",
        "    else:\n",
        "      currRow = currRow + 1;\n",
        "  return rowCount;\n"
      ],
      "execution_count": 10,
      "outputs": []
    },
    {
      "cell_type": "code",
      "metadata": {
        "id": "WLK-2hTCEVBf"
      },
      "source": [
        "def readMessages(textFile, msgStatements):\n",
        "  range1 = [i for i in range(0,7)]\n",
        "  fileRead = pd.read_table(textFile, usecols = range1, sep='\\t', delim_whitespace=True, dtype = {\"TIMESTAMP\":object, \"RIGHT_EYE_X\":object, \"RIGHT_EYE_Y\":object, \"RIGHT_PUPIL_SIZE\":object, \"LEFT_EYE_X\":object, \"LEFT_EYE_Y\":object, \"LEFT_EYE_PUPIL\":object});\n",
        "  fileRead.columns = [\"TIMESTAMP\", \"RIGHT_EYE_X\", \"RIGHT_EYE_Y\", \"RIGHT_PUPIL_SIZE\", \"LEFT_EYE_X\", \"LEFT_EYE_Y\", \"LEFT_EYE_PUPIL\"];\n",
        "  rowCount = fileRead.shape[0];\n",
        "  colCount = 7;\n",
        "  msg = \"MSG\";\n",
        "  currRow = 0;\n",
        "  while currRow < rowCount:\n",
        "    startRow = 1;\n",
        "    endRow = 1;\n",
        "    if msg in str(fileRead.iloc[currRow, 0]):\n",
        "      s = str(fileRead.iloc[currRow, 2]);\n",
        "      res = s.translate(str.maketrans('','','1234567890'));\n",
        "      msgStatements.append(res);\n",
        "      #print(res)\n",
        "      currRow = currRow + 1;\n",
        "    else:\n",
        "      currRow = currRow + 1;\n",
        "  return msgStatements\n"
      ],
      "execution_count": 133,
      "outputs": []
    },
    {
      "cell_type": "code",
      "metadata": {
        "id": "dJsWwJ5DXd-A"
      },
      "source": [
        "#counts how many types of each trial there is, marks SSACC times, and drops unwanted messages\n",
        "def countTypes(textFile, msgStatements, break_msg, msgCountPast):\n",
        "  range1 = [i for i in range(0,7)]\n",
        "  fileRead = pd.read_table(textFile, usecols = range1, sep='\\t', delim_whitespace=True, dtype = {\"TIMESTAMP\":object, \"RIGHT_EYE_X\":object, \"RIGHT_EYE_Y\":object, \"RIGHT_PUPIL_SIZE\":object, \"LEFT_EYE_X\":object, \"LEFT_EYE_Y\":object, \"LEFT_EYE_PUPIL\":object});\n",
        "  fileRead.columns = [\"TIMESTAMP\", \"RIGHT_EYE_X\", \"RIGHT_EYE_Y\", \"RIGHT_PUPIL_SIZE\", \"LEFT_EYE_X\", \"LEFT_EYE_Y\", \"LEFT_EYE_PUPIL\"];\n",
        "  rowCount = fileRead.shape[0];\n",
        "  colCount = 7;\n",
        "  message = \"MSG\";\n",
        "  # variables \n",
        "  msgCount = np.zeros(rowCount, dtype = int);\n",
        "  msgState_count = msgCountPast;\n",
        "  currRow = 0;\n",
        "  while currRow < rowCount:\n",
        "    startRow = 1;\n",
        "    endRow = 1;\n",
        "    s1 = str(fileRead.iloc[currRow, 2]);\n",
        "    table1 = str.maketrans('', '', digits)\n",
        "    res1 = s1.translate(table1);\n",
        "    if res1 in break_msg:\n",
        "      print(res1);\n",
        "      fileRead.drop(currRow);\n",
        "      np.savetxt(textFile, fileRead, delimiter=\" \", fmt=\"%s\");\n",
        "      rowCount = rowCount - 1;\n",
        "    if message in str(fileRead.iloc[currRow, 0]):\n",
        "      s = str(fileRead.iloc[currRow, 2]);\n",
        "      table = str.maketrans('', '', digits)\n",
        "      res = s.translate(table);\n",
        "      indexFound = msgStatements.index(res)\n",
        "      if indexFound >= 0:\n",
        "        msgState_count[indexFound] = msgState_count[indexFound] + 1;\n",
        "        print(\"added count\")\n",
        "      currRow = currRow + 1;\n",
        "    else:\n",
        "      currRow = currRow + 1;\n",
        "\n",
        "  return msgState_count;\n"
      ],
      "execution_count": 169,
      "outputs": []
    },
    {
      "cell_type": "code",
      "metadata": {
        "id": "mwLxYGl1UCQY"
      },
      "source": [
        "#Run #1\n",
        "rowCount = countTrials('/content/NLS_14_3.txt',)"
      ],
      "execution_count": 11,
      "outputs": []
    },
    {
      "cell_type": "code",
      "metadata": {
        "colab": {
          "base_uri": "https://localhost:8080/"
        },
        "id": "kbVyJFFiZy4U",
        "outputId": "37b3deee-54eb-4b00-c502-2c4e911a7890"
      },
      "source": [
        "# Run #2\n",
        "APP_FOLDER = \"/content/proceed1\";\n",
        "totalFiles = 0;\n",
        "for base, dirs, files in os.walk(APP_FOLDER):\n",
        "    for Files in files:\n",
        "        totalFiles += 1\n",
        "print(totalFiles)\n"
      ],
      "execution_count": 15,
      "outputs": [
        {
          "output_type": "stream",
          "text": [
            "71\n"
          ],
          "name": "stdout"
        }
      ]
    },
    {
      "cell_type": "code",
      "metadata": {
        "id": "Ew1WMrZIUZ-i"
      },
      "source": [
        "# Run #3\n",
        "#what works: count MSG types (havent added count SSACC yet but this is relatively easy since its the same logic as count msg types)\n",
        "#what doesn't work: dropping lines that have messages we don't want, \"break_msg\"\n",
        "break_msg = {\"EFIX\", \"ESACC\", \"SFIX\", \"EBLINK\"};\n",
        "sacc_msg = {\"SSACC\"};\n",
        "msgStates = [];\n",
        "patientNum = 14;\n",
        "msgStatements = readMessages(\"/content/proceed1/NLS_\"+str(patientNum)+\"_1.txt\", msgStates);\n",
        "rowMsg = len(msgStatements);\n",
        "msgPre = [0] * rowMsg;\n",
        "msgCount = countTypes(\"/content/proceed1/NLS_\"+str(patientNum)+\"_1.txt\", msgStatements, break_msg, msgPre)\n",
        "print(msgCount)"
      ],
      "execution_count": null,
      "outputs": []
    },
    {
      "cell_type": "code",
      "metadata": {
        "id": "k7lHquKSiGIG"
      },
      "source": [
        "#msgStatements = [\"Prosaccades\", \"Fixations_1\"];\n",
        "#STILL WORKING:\n",
        "# need to find a way to keep msgStatements constantly updated with new messages without overlapping on old ones (current issue), \n",
        "# and also keep the index of messages stored to never change so that the numbers don't get messed up\n",
        "for i in range(2,totalFiles):\n",
        " msgStatements = readMessages(\"/content/proceed1/NLS_\"+str(patientNum)+\"_\"+str(i)+\".txt\", msgStatements);\n",
        " print(msgStatements)\n",
        " msgCount = countTypes(\"/content/proceed1/NLS_\"+str(patientNum)+\"_\"+str(i)+\".txt\", msgStatements, break_msg, msgCount)\n",
        "\n",
        "msgState_count = [[msgStatements], [msgCount]];\n",
        "print(msgState_count)"
      ],
      "execution_count": null,
      "outputs": []
    }
  ]
}